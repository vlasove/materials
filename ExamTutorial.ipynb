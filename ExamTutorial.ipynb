{
 "cells": [
  {
   "cell_type": "markdown",
   "metadata": {
    "id": "9kRcwsFAtfkx"
   },
   "source": [
    "# IT For Business and Finance - Final Exam\n",
    "\n",
    "### Rules\n",
    "- At the beginning of the notebook, you will find a cell requiring you to input your student ID: add your student ID **removing eventual initial zeros**. For example, you student ID is equal to `0351235`, write it as follows and evaluate the cell.\n",
    "\n",
    "```python\n",
    "student_id = 351235\n",
    "```\n",
    "\n",
    "- Do not change the cells where it's explicitly required not to change them, just evaluate them before starting with the exercise. Such cells often contain the input to your exercise.\n",
    "- Every exercise requires you to \"write a program\": you can encapsulate your code in a function, more functions, a class... or don't encapsulate it if you prefer, just write all the lines directly. However you do, the code **MUST reside in one single cell between my comment lines**: that's the ONLY code I will evaluate.\n",
    "- If the code requires to store the output in a specific variable (often called `output_exercise_number`) make sure to place it there.\n",
    "- Make sure that your code works by trying it yourself! you can add as many cells as you want, be sure to mark them with comments as \"scratch cells\". The code in those cells will not be evaluated. "
   ]
  },
  {
   "cell_type": "markdown",
   "metadata": {
    "id": "tIPFI3-uyUB8"
   },
   "source": [
    "## Student ID set up"
   ]
  },
  {
   "cell_type": "code",
   "execution_count": 3,
   "metadata": {
    "id": "J--nmvptyTrw"
   },
   "outputs": [],
   "source": [
    "## Evaluate this cell only once.\n",
    "student_id = 351235"
   ]
  },
  {
   "cell_type": "markdown",
   "metadata": {
    "id": "kQCX3GyhKmMb"
   },
   "source": [
    "In the following I added 3 different ways of solving the exercise: using a function, using a class or simply writing the code imperatively line-by-line. Your solution can follow a single approach or mix them all, the choice is up to you as long as you follow the rules:\n",
    "- All the code in one cell.\n",
    "- Inputs and outputs variables, when required, must have the name provided in the exercise text."
   ]
  },
  {
   "cell_type": "markdown",
   "metadata": {
    "id": "73xY_RL8waBZ"
   },
   "source": [
    "## Example Exercise\n",
    "Write a program that takes `input_example_exercise`, that is a list of integer numbers, and returns the sum of **only the even numbers** in it and save it in the variable `output_example_exercise`."
   ]
  },
  {
   "cell_type": "code",
   "execution_count": null,
   "metadata": {
    "id": "qFdAHZU7LtOF"
   },
   "outputs": [],
   "source": [
    "######## DO NOT CHANGE THIS PART CELL #######\n",
    "import random \n",
    "random.seed(student_id)\n",
    "input_example_exercise = [random.randint(1, 42) for _ in range(100)]\n",
    "output_example_exercise = 0\n",
    "#############################################\n",
    "\n",
    "##### WRITE YOUR CODE HERE FOR EVALUATION\n",
    "# Python program to print Even Numbers in a List\n",
    "\n",
    "# list of numbers\n",
    "list1 = [10, 21, 4, 45, 66, 93]\n",
    "\n",
    "# iterating each number in list\n",
    "for num in list1:\n",
    "\t\n",
    "\t# checking condition\n",
    "\tif num % 2 == 0:\n",
    "\tprint(num, end = \" \")\n",
    "\n",
    "\n",
    "##### END YOUR CODE HERE FOR EVALUATION\n"
   ]
  },
  {
   "cell_type": "markdown",
   "metadata": {
    "id": "PEo8KO4eLwXZ"
   },
   "source": [
    "#### Example Exercise Solution"
   ]
  },
  {
   "cell_type": "code",
   "execution_count": 1,
   "metadata": {
    "id": "xJurUiMotdXI"
   },
   "outputs": [
    {
     "ename": "NameError",
     "evalue": "name 'student_id' is not defined",
     "output_type": "error",
     "traceback": [
      "\u001b[1;31m---------------------------------------------------------------------------\u001b[0m",
      "\u001b[1;31mNameError\u001b[0m                                 Traceback (most recent call last)",
      "\u001b[1;32m<ipython-input-1-f52f435d72ab>\u001b[0m in \u001b[0;36m<module>\u001b[1;34m\u001b[0m\n\u001b[0;32m      1\u001b[0m \u001b[1;31m######## DO NOT CHANGE THIS PART CELL #######\u001b[0m\u001b[1;33m\u001b[0m\u001b[1;33m\u001b[0m\u001b[1;33m\u001b[0m\u001b[0m\n\u001b[0;32m      2\u001b[0m \u001b[1;32mimport\u001b[0m \u001b[0mrandom\u001b[0m\u001b[1;33m\u001b[0m\u001b[1;33m\u001b[0m\u001b[0m\n\u001b[1;32m----> 3\u001b[1;33m \u001b[0mrandom\u001b[0m\u001b[1;33m.\u001b[0m\u001b[0mseed\u001b[0m\u001b[1;33m(\u001b[0m\u001b[0mstudent_id\u001b[0m\u001b[1;33m)\u001b[0m\u001b[1;33m\u001b[0m\u001b[1;33m\u001b[0m\u001b[0m\n\u001b[0m\u001b[0;32m      4\u001b[0m \u001b[0minput_example_exercise\u001b[0m \u001b[1;33m=\u001b[0m \u001b[1;33m[\u001b[0m\u001b[0mrandom\u001b[0m\u001b[1;33m.\u001b[0m\u001b[0mrandint\u001b[0m\u001b[1;33m(\u001b[0m\u001b[1;36m1\u001b[0m\u001b[1;33m,\u001b[0m \u001b[1;36m42\u001b[0m\u001b[1;33m)\u001b[0m \u001b[1;32mfor\u001b[0m \u001b[0m_\u001b[0m \u001b[1;32min\u001b[0m \u001b[0mrange\u001b[0m\u001b[1;33m(\u001b[0m\u001b[1;36m100\u001b[0m\u001b[1;33m)\u001b[0m\u001b[1;33m]\u001b[0m\u001b[1;33m\u001b[0m\u001b[1;33m\u001b[0m\u001b[0m\n\u001b[0;32m      5\u001b[0m \u001b[0moutput_example_exercise\u001b[0m \u001b[1;33m=\u001b[0m \u001b[1;36m0\u001b[0m\u001b[1;33m\u001b[0m\u001b[1;33m\u001b[0m\u001b[0m\n",
      "\u001b[1;31mNameError\u001b[0m: name 'student_id' is not defined"
     ]
    }
   ],
   "source": [
    "######## DO NOT CHANGE THIS PART CELL #######\n",
    "import random \n",
    "random.seed(student_id)\n",
    "input_example_exercise = [random.randint(1, 42) for _ in range(100)]\n",
    "output_example_exercise = 0\n",
    "#############################################\n",
    "\n",
    "##### WRITE YOUR CODE HERE FOR EVALUATION\n",
    "\n",
    "def example_exercise_solution(input_list):\n",
    "    running_sum = 0\n",
    "    for n in input_list:\n",
    "        if n % 2 == 0:\n",
    "            running_sum += n\n",
    "    return running_sum\n",
    "\n",
    "output_example_exercise = example_exercise_solution(input_example_exercise)\n",
    "\n",
    "##### END YOUR CODE HERE FOR EVALUATION\n"
   ]
  },
  {
   "cell_type": "code",
   "execution_count": 19,
   "metadata": {
    "id": "ixQ-f1AG0qxH"
   },
   "outputs": [],
   "source": [
    "######## DO NOT CHANGE THIS PART CELL #######\n",
    "import random \n",
    "random.seed(student_id)\n",
    "input_example_exercise = [random.randint(1, 42) for _ in range(100)]\n",
    "output_example_exercise = 0\n",
    "#############################################\n",
    "\n",
    "##### WRITE YOUR CODE HERE FOR EVALUATION\n",
    "\n",
    "class ExampleExercise:\n",
    "    def __init__(self):\n",
    "        pass\n",
    "    \n",
    "    def solution(self, input_list):\n",
    "        self.running_sum = 0\n",
    "        for n in input_list:\n",
    "            if n % 2 == 0:\n",
    "                self.running_sum += n\n",
    "\n",
    "example_exercise_solver = ExampleExercise()\n",
    "example_exercise_solver.solution(input_example_exercise)\n",
    "output_example_exercise = example_exercise_solver.running_sum\n",
    "\n",
    "##### END YOUR CODE HERE FOR EVALUATION\n"
   ]
  },
  {
   "cell_type": "code",
   "execution_count": 17,
   "metadata": {
    "id": "njGoJ3Bq0S4c"
   },
   "outputs": [],
   "source": [
    "######## DO NOT CHANGE THIS PART CELL #######\n",
    "import random \n",
    "random.seed(student_id)\n",
    "input_example_exercise = [random.randint(1, 42) for _ in range(100)]\n",
    "output_example_exercise = 0\n",
    "#############################################\n",
    "\n",
    "##### WRITE YOUR CODE HERE FOR EVALUATION\n",
    "\n",
    "running_sum = 0\n",
    "for n in input_example_exercise:\n",
    "    if n % 2 == 0:\n",
    "        running_sum += n\n",
    "\n",
    "output_example_exercise = running_sum\n",
    "\n",
    "##### END YOUR CODE HERE FOR EVALUATION\n"
   ]
  },
  {
   "cell_type": "code",
   "execution_count": 23,
   "metadata": {
    "colab": {
     "base_uri": "https://localhost:8080/"
    },
    "id": "O_kd6SQhz1tn",
    "outputId": "d7b88895-9b5b-48d3-a39e-33cecb005713"
   },
   "outputs": [
    {
     "name": "stdout",
     "output_type": "stream",
     "text": [
      "1\n",
      "2\n",
      "3\n",
      "4\n",
      "5\n",
      "test is even\n"
     ]
    }
   ],
   "source": [
    "## scratch code\n",
    "test_list = [1, 2, 3, 4, 5]\n",
    "for n in test_list:\n",
    "    print(n)\n",
    "\n",
    "test = 10\n",
    "test % 2 == 0\n",
    "if test:\n",
    "    print('test is even')"
   ]
  },
  {
   "cell_type": "markdown",
   "metadata": {
    "id": "h5_4nj0J1v4H"
   },
   "source": [
    "## Example Exercise 2\n",
    "Write a program that takes a list of floats, `input_example_exercise_2` and returns the average sum of the squares of the numbers in the list. Pay attention: the list **can be empty** and you must be sure  0 your program to return 0 and not an error in that case. Save the result in the variable `output_example_exercise_2`."
   ]
  },
  {
   "cell_type": "code",
   "execution_count": null,
   "metadata": {
    "id": "FwCftzfCMBnD"
   },
   "outputs": [],
   "source": [
    "######## DO NOT CHANGE THIS PART CELL #######\n",
    "import random \n",
    "random.seed(student_id)\n",
    "input_example_exercise_2_tmp = [random.randint(1, 42) for _ in range(100)]\n",
    "input_example_exercise_2 = random.choice(([], input_example_exercise_2_tmp))\n",
    "output_example_exercise_2 = 0\n",
    "#############################################\n",
    "\n",
    "##### WRITE YOUR CODE HERE FOR EVALUATION\n",
    "\n",
    "##### END YOUR CODE HERE FOR EVALUATION\n"
   ]
  },
  {
   "cell_type": "markdown",
   "metadata": {
    "id": "H9Jdk3XtL8kF"
   },
   "source": [
    "#### Example Exercise 2 Solution"
   ]
  },
  {
   "cell_type": "code",
   "execution_count": 38,
   "metadata": {
    "id": "YnQWOJr00LRb"
   },
   "outputs": [],
   "source": [
    "######## DO NOT CHANGE THIS PART CELL #######\n",
    "import random \n",
    "random.seed(student_id)\n",
    "input_example_exercise_2_tmp = [random.randint(1, 42) for _ in range(100)]\n",
    "input_example_exercise_2 = random.choice(([], input_example_exercise_2_tmp))\n",
    "output_example_exercise_2 = 0\n",
    "#############################################\n",
    "\n",
    "##### WRITE YOUR CODE HERE FOR EVALUATION\n",
    "\n",
    "def example_exercise_2_solution(input_list):\n",
    "    if len(input_list) == 0:\n",
    "        return 0\n",
    "    else:\n",
    "        running_sum_of_squares = 0\n",
    "        for n in input_list:\n",
    "            running_sum_of_squares += n*n\n",
    "        return running_sum_of_squares\n",
    "\n",
    "output_example_exercise_2 = example_exercise_2_solution(input_example_exercise_2)\n",
    "\n",
    "##### END YOUR CODE HERE FOR EVALUATION\n"
   ]
  },
  {
   "cell_type": "code",
   "execution_count": 43,
   "metadata": {
    "id": "mK_oIt27EUmd"
   },
   "outputs": [],
   "source": [
    "######## DO NOT CHANGE THIS PART CELL #######\n",
    "import random \n",
    "random.seed(student_id*3)\n",
    "input_example_exercise_2_tmp = [random.randint(1, 42) for _ in range(100)]\n",
    "input_example_exercise_2 = random.choice(([], input_example_exercise_2_tmp))\n",
    "output_example_exercise_2 = 0\n",
    "#############################################\n",
    "\n",
    "##### WRITE YOUR CODE HERE FOR EVALUATION\n",
    "\n",
    "class ExampleExercise2:\n",
    "    def __init__(self):\n",
    "        pass\n",
    "\n",
    "    def solution(self, input_list):\n",
    "        if len(input_list) == 0:\n",
    "            self.running_sum_of_squares = 0\n",
    "        else:\n",
    "            self.running_sum_of_squares = 0\n",
    "            for n in input_list:\n",
    "                self.running_sum_of_squares += n*n\n",
    "\n",
    "example_exercise_2_solver = ExampleExercise2()\n",
    "example_exercise_2_solver.solution(input_example_exercise_2)\n",
    "output_example_exercise_2 = example_exercise_2_solver.running_sum_of_squares\n",
    "\n",
    "##### END YOUR CODE HERE FOR EVALUATION\n"
   ]
  },
  {
   "cell_type": "code",
   "execution_count": 48,
   "metadata": {
    "id": "SW4KzoKOF0MC"
   },
   "outputs": [],
   "source": [
    "######## DO NOT CHANGE THIS PART CELL #######\n",
    "import random \n",
    "random.seed(student_id*4)\n",
    "input_example_exercise_2_tmp = [random.randint(1, 42) for _ in range(100)]\n",
    "input_example_exercise_2 = random.choice(([], input_example_exercise_2_tmp))\n",
    "output_example_exercise_2 = 0\n",
    "#############################################\n",
    "\n",
    "##### WRITE YOUR CODE HERE FOR EVALUATION\n",
    "\n",
    "for n in input_example_exercise_2:\n",
    "    output_example_exercise_2 += n*n\n",
    "\n",
    "##### END YOUR CODE HERE FOR EVALUATION\n"
   ]
  }
 ],
 "metadata": {
  "colab": {
   "collapsed_sections": [],
   "name": "ExamTutorial.ipynb",
   "provenance": []
  },
  "kernelspec": {
   "display_name": "Python 3",
   "language": "python",
   "name": "python3"
  },
  "language_info": {
   "codemirror_mode": {
    "name": "ipython",
    "version": 3
   },
   "file_extension": ".py",
   "mimetype": "text/x-python",
   "name": "python",
   "nbconvert_exporter": "python",
   "pygments_lexer": "ipython3",
   "version": "3.8.5"
  }
 },
 "nbformat": 4,
 "nbformat_minor": 1
}
